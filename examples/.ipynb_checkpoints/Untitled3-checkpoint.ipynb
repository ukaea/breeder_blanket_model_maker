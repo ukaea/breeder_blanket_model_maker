{
 "cells": [
  {
   "cell_type": "code",
   "execution_count": 1,
   "metadata": {},
   "outputs": [],
   "source": [
    "import shutil\n",
    "import sys\n",
    "sys.dont_write_bytecode = True\n",
    "sys.path.append('/usr/lib/freecad-daily/lib/')\n",
    "sys.path.append('/usr/lib/freecad/lib/')\n",
    "\n",
    "import math\n",
    "import FreeCAD\n",
    "from FreeCAD import Base\n",
    "import Part\n",
    "import os\n",
    "from collections import Counter\n",
    "import collections\n",
    "from collections import OrderedDict\n",
    "\n",
    "import Mesh\n",
    "import Draft\n",
    "import MeshPart\n",
    "import numpy as np\n",
    "import heapq\n",
    "\n",
    "import breeder_blanket_model_maker\n",
    "import pkg_resources\n"
   ]
  },
  {
   "cell_type": "code",
   "execution_count": 2,
   "metadata": {},
   "outputs": [],
   "source": [
    "def add_cooling_pipes_to_div(div_to_cool,channel_poloidal_height,channel_radial_height,plate_poloidal_height,plasma):\n",
    "\n",
    "    middle, top_bottom = chop_top_and_bottom_from_cooling_plate(plate=div_to_cool,\n",
    "                                                                channel_poloidal_height=channel_poloidal_height,\n",
    "                                                                plate_poloidal_height=plate_poloidal_height)\n",
    "\n",
    "   \n",
    "    largest_face, largest_face_id = find_largest_face(div_to_cool)\n",
    "\n",
    "    second_largest_face, second_largest_face_id = find_largest_face(div_to_cool,2)\n",
    "\n",
    "    back_face = find_envelope_back_face(div_to_cool,plasma)\n",
    "    back_face_id = find_envelope_back_face_id(div_to_cool,plasma)\n",
    "\n",
    "    #print('face ids ',largest_face_id,second_largest_face_id,back_face_id)\n",
    "\n",
    "    #faces_not_in_first_wall = [div_to_cool.Faces[largest_face_id],div_to_cool.Faces[second_largest_face_id],div_to_cool.Faces[back_face_id]]\n",
    "    faces_not_in_first_wall = [largest_face,back_face,second_largest_face]\n",
    "    #print(faces_not_in_first_wall)\n",
    "    \n",
    "    #print('poloidal_cooling_plate_mm',poloidal_cooling_plate_mm)\n",
    "\n",
    "    step_list=[0]\n",
    "    for c in range(34):#must be and even number to make sure pipe has both front back walls\n",
    "        if c % 2 == 0:\n",
    "            step_list.append(step_list[c]+10+c)\n",
    "            #print(step_list[c]+10+(c*1.5))\n",
    "        else:\n",
    "            step_list.append(step_list[c]+channel_radial_height)\n",
    "    #print('step_list',step_list)\n",
    "    #print('faces_not_in_first_wall',faces_not_in_first_wall)\n",
    "\n",
    "    list_of_cooling_pipes=[]\n",
    "    list_of_structure=[]\n",
    "\n",
    "    try:\n",
    "        for counter, step in enumerate(step_list[1:]):\n",
    "            #print('adding cooling channel ',counter)\n",
    "\n",
    "            #cooling_solid = div_to_cool.makeThickness(faces_not_in_first_wall, -step, 0, True)\n",
    "            cooling_solid = div_to_cool.makeThickness(faces_not_in_first_wall, -step, 0, True)\n",
    "            #print(counter,cooling_solid.Volume)\n",
    "\n",
    "\n",
    "            if counter==0:\n",
    "\n",
    "                #save_list_of_solids_to_stp(cooling_solid, 'cooling_solid' + str(counter))\n",
    "                cooling_solid = cooling_solid.cut(top_bottom)\n",
    "                list_of_structure.append(cooling_solid)\n",
    "            else:\n",
    "                cut_solid= cooling_solid.cut(previous_solid)\n",
    "\n",
    "                #save_list_of_solids_to_stp(cut_solid, 'cooling_solid' + str(counter))\n",
    "                #all_solids = cooling_solid.fuse(previous_solid)\n",
    "\n",
    "                if counter % 2 == 0:\n",
    "                    cut_solid = cut_solid.cut(top_bottom)\n",
    "                    list_of_structure.append(cut_solid)\n",
    "                else:\n",
    "                    cut_solid=cut_solid.cut(top_bottom)\n",
    "                    list_of_cooling_pipes.append(cut_solid)\n",
    "\n",
    "\n",
    "                print('cooling channel formation cut_solid.Volume',cut_solid.Volume)\n",
    "                # if cut_solid.Volume < 3000000:\n",
    "                #     print('cut volume is small so this is the last cooling channel')\n",
    "                #     break\n",
    "\n",
    "            previous_solid=cooling_solid\n",
    "\n",
    "        list_of_structure.append(middle.cut(cooling_solid))\n",
    "        list_of_structure.append(top_bottom)\n",
    "        \n",
    "    except:\n",
    "        pass\n",
    "        print('error the end of the cooling channels has been reached')\n",
    "\n",
    "\n",
    "    \n",
    "    return list_of_cooling_pipes,list_of_structure"
   ]
  },
  {
   "cell_type": "code",
   "execution_count": 3,
   "metadata": {},
   "outputs": [],
   "source": [
    "def find_largest_face(solid_or_list_of_faces,n=1):\n",
    "    if type(solid_or_list_of_faces) == list:\n",
    "        #print('a list')\n",
    "        list_of_faces = solid_or_list_of_faces\n",
    "    else:\n",
    "        #print('not a list')\n",
    "        list_of_faces = solid_or_list_of_faces.Faces\n",
    "\n",
    "    face_sizes=[]\n",
    "    face_ids=[]\n",
    "    for face_id, face in enumerate(list_of_faces):\n",
    "        face_sizes.append(face.Area)\n",
    "        face_ids.append(face_id)\n",
    "\n",
    "    print('face_sizes',face_sizes)\n",
    "    largest_size = heapq.nlargest(n, face_sizes)[-1]\n",
    "\n",
    "    index_to_return = face_sizes.index(largest_size)\n",
    "\n",
    "\n",
    "    return list_of_faces[index_to_return] , face_ids[index_to_return]"
   ]
  },
  {
   "cell_type": "code",
   "execution_count": null,
   "metadata": {},
   "outputs": [],
   "source": []
  },
  {
   "cell_type": "code",
   "execution_count": 15,
   "metadata": {},
   "outputs": [],
   "source": [
    "def chop_top_and_bottom_from_cooling_plate(plate, channel_poloidal_height,plate_poloidal_height):\n",
    "\n",
    "    #print('plate',plate)\n",
    "\n",
    "    largest_face, largest_face_id=find_largest_face(plate)\n",
    "    print(largest_face, largest_face_id)\n",
    "    \n",
    "    second_largest_face, second_largest_face_id=find_largest_face(plate,2)\n",
    "    print(second_largest_face, second_largest_face_id)\n",
    "\n",
    "    thickness_of_top_bottom_layers = (plate_poloidal_height-channel_poloidal_height)/2.0\n",
    "    print('thickness_of_top_bottom_layers',thickness_of_top_bottom_layers)\n",
    "    \n",
    "#    poly_face.scale(2.0, poly_face.CenterOfMass)\n",
    "    largest_face.scale(2.0, largest_face.CenterOfMass)\n",
    "    second_largest_face.scale(2.0, second_largest_face.CenterOfMass)\n",
    "\n",
    "    new_face1 = largest_face.extrude(largest_face.normalAt(0, 0) * -thickness_of_top_bottom_layers)\n",
    "    \n",
    "    new_face2 = second_largest_face.extrude(second_largest_face.normalAt(0, 0) * -thickness_of_top_bottom_layers)\n",
    "\n",
    "    #new_face2 = plate.Faces[largest_face_id].extrude(largest_face.normalAt(0, 0) * -thickness_of_top_bottom_layers)\n",
    "\n",
    "    top = new_face1.common(plate) #new_face1.fuse(new_face2)\n",
    "    print('top vol',top.Volume)\n",
    "    \n",
    "    bottom = new_face2.common(plate) #new_face1.fuse(new_face2)\n",
    "    print('bottom vol',bottom.Volume)    \n",
    "    \n",
    "    top.exportStep('/home/jshim/detailed_HCLL/step/top.step')  \n",
    "    bottom.exportStep('/home/jshim/detailed_HCLL/step/bottom.step')  \n",
    "\n",
    "    #new_face1 = plate.Faces[largest_face_id].extrude(largest_face.normalAt(0, 0) * -(channel_poloidal_height +thickness_of_top_bottom_layers ))\n",
    "\n",
    "    #new_face2 = plate.Faces[largest_face_id].extrude(largest_face.normalAt(0, 0) * -(channel_poloidal_height +thickness_of_top_bottom_layers ))\n",
    "\n",
    "    middle = (plate.cut(top)).cut(bottom)\n",
    "    print('mid vol',middle.Volume)\n",
    "\n",
    "    top_bottom = plate.cut(middle)\n",
    "    \n",
    "    middle.exportStep('/home/jshim/detailed_HCLL/step/middle.step')\n",
    "    top_bottom.exportStep('/home/jshim/detailed_HCLL/step/top_bottom.step')\n",
    "\n",
    "\n",
    "\n",
    "    return middle, top_bottom"
   ]
  },
  {
   "cell_type": "code",
   "execution_count": 17,
   "metadata": {},
   "outputs": [],
   "source": []
  },
  {
   "cell_type": "code",
   "execution_count": 8,
   "metadata": {},
   "outputs": [],
   "source": [
    "file='/home/jshim/detailed_HCLL/step/slice_cooling_plate_material_mod13.step'\n",
    "multipart_step = Part.read(file)"
   ]
  },
  {
   "cell_type": "code",
   "execution_count": 9,
   "metadata": {},
   "outputs": [
    {
     "data": {
      "text/plain": [
       "5963280.3720196085"
      ]
     },
     "execution_count": 9,
     "metadata": {},
     "output_type": "execute_result"
    }
   ],
   "source": [
    "multipart_step.Volume"
   ]
  },
  {
   "cell_type": "code",
   "execution_count": 17,
   "metadata": {},
   "outputs": [
    {
     "name": "stdout",
     "output_type": "stream",
     "text": [
      "('face_sizes', [1054631.8345145134, 4059.63500776915, 259.67475118935056, 7434.358912669802, 259.6747369387349, 4059.635042098409, 8248.041042261617, 1054666.0226454674])\n",
      "(<Face object at 0x1c2eed0>, 7)\n",
      "('face_sizes', [1054631.8345145134, 4059.63500776915, 259.67475118935056, 7434.358912669802, 259.6747369387349, 4059.635042098409, 8248.041042261617, 1054666.0226454674])\n",
      "(<Face object at 0x1ee4660>, 0)\n",
      "('thickness_of_top_bottom_layers', 1.0)\n",
      "('top vol', 1054662.999470192)\n",
      "('bottom vol', 1054634.8575550308)\n",
      "('mid vol', 3853982.5149823637)\n"
     ]
    },
    {
     "ename": "UnboundLocalError",
     "evalue": "local variable 'top_bottom' referenced before assignment",
     "output_type": "error",
     "traceback": [
      "\u001b[0;31m---------------------------------------------------------------------------\u001b[0m",
      "\u001b[0;31mUnboundLocalError\u001b[0m                         Traceback (most recent call last)",
      "\u001b[0;32m<ipython-input-17-1595984a08ff>\u001b[0m in \u001b[0;36m<module>\u001b[0;34m()\u001b[0m\n\u001b[0;32m----> 1\u001b[0;31m \u001b[0mmiddle\u001b[0m\u001b[0;34m,\u001b[0m \u001b[0mtop_bottom\u001b[0m \u001b[0;34m=\u001b[0m\u001b[0mchop_top_and_bottom_from_cooling_plate\u001b[0m\u001b[0;34m(\u001b[0m\u001b[0mmultipart_step\u001b[0m\u001b[0;34m,\u001b[0m\u001b[0;36m3.0\u001b[0m\u001b[0;34m,\u001b[0m\u001b[0;36m5.0\u001b[0m\u001b[0;34m)\u001b[0m\u001b[0;34m\u001b[0m\u001b[0m\n\u001b[0m",
      "\u001b[0;32m<ipython-input-15-4fda6fb0dd33>\u001b[0m in \u001b[0;36mchop_top_and_bottom_from_cooling_plate\u001b[0;34m(plate, channel_poloidal_height, plate_poloidal_height)\u001b[0m\n\u001b[1;32m     39\u001b[0m \u001b[0;34m\u001b[0m\u001b[0m\n\u001b[1;32m     40\u001b[0m     \u001b[0mmiddle\u001b[0m\u001b[0;34m.\u001b[0m\u001b[0mexportStep\u001b[0m\u001b[0;34m(\u001b[0m\u001b[0;34m'/home/jshim/detailed_HCLL/step/middle.step'\u001b[0m\u001b[0;34m)\u001b[0m\u001b[0;34m\u001b[0m\u001b[0m\n\u001b[0;32m---> 41\u001b[0;31m     \u001b[0mtop_bottom\u001b[0m\u001b[0;34m.\u001b[0m\u001b[0mexportStep\u001b[0m\u001b[0;34m(\u001b[0m\u001b[0;34m'/home/jshim/detailed_HCLL/step/top_bottom.step'\u001b[0m\u001b[0;34m)\u001b[0m\u001b[0;34m\u001b[0m\u001b[0m\n\u001b[0m\u001b[1;32m     42\u001b[0m \u001b[0;34m\u001b[0m\u001b[0m\n\u001b[1;32m     43\u001b[0m     \u001b[0mtop_bottom\u001b[0m \u001b[0;34m=\u001b[0m \u001b[0mplate\u001b[0m\u001b[0;34m.\u001b[0m\u001b[0mcut\u001b[0m\u001b[0;34m(\u001b[0m\u001b[0mmiddle\u001b[0m\u001b[0;34m)\u001b[0m\u001b[0;34m\u001b[0m\u001b[0m\n",
      "\u001b[0;31mUnboundLocalError\u001b[0m: local variable 'top_bottom' referenced before assignment"
     ]
    }
   ],
   "source": [
    "middle, top_bottom =chop_top_and_bottom_from_cooling_plate(multipart_step,3.0,5.0)"
   ]
  },
  {
   "cell_type": "code",
   "execution_count": 53,
   "metadata": {},
   "outputs": [
    {
     "data": {
      "text/plain": [
       "Part.Shape"
      ]
     },
     "execution_count": 53,
     "metadata": {},
     "output_type": "execute_result"
    }
   ],
   "source": [
    "type(top_bottom)"
   ]
  },
  {
   "cell_type": "code",
   "execution_count": 15,
   "metadata": {},
   "outputs": [
    {
     "data": {
      "text/plain": [
       "5963280.3720196085"
      ]
     },
     "execution_count": 15,
     "metadata": {},
     "output_type": "execute_result"
    }
   ],
   "source": [
    "top_bottom.Volume"
   ]
  },
  {
   "cell_type": "code",
   "execution_count": null,
   "metadata": {},
   "outputs": [],
   "source": []
  }
 ],
 "metadata": {
  "kernelspec": {
   "display_name": "Python 2",
   "language": "python",
   "name": "python2"
  },
  "language_info": {
   "codemirror_mode": {
    "name": "ipython",
    "version": 2
   },
   "file_extension": ".py",
   "mimetype": "text/x-python",
   "name": "python",
   "nbconvert_exporter": "python",
   "pygments_lexer": "ipython2",
   "version": "2.7.12"
  }
 },
 "nbformat": 4,
 "nbformat_minor": 2
}
